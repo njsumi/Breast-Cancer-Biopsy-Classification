{
 "cells": [
  {
   "cell_type": "code",
   "execution_count": null,
   "metadata": {
    "id": "zTLBQUJZJpEU"
   },
   "outputs": [],
   "source": [
    "import gdown \n",
    "import pandas as pd\n",
    "from sklearn import metrics\n",
    "\n",
    "from google.cloud import storage\n",
    "def download_public_file(bucket_name, source_blob_name, destination_file_name):\n",
    "    storage_client = storage.Client.create_anonymous_client()\n",
    "\n",
    "    bucket = storage_client.bucket(bucket_name)\n",
    "    blob = bucket.blob(source_blob_name)\n",
    "    blob.download_to_filename(destination_file_name)\n",
    "\n",
    "    print(\n",
    "        \"Downloaded public blob {} from bucket {} to {}.\".format(\n",
    "            source_blob_name, bucket.name, destination_file_name\n",
    "        )\n",
    "    )\n",
    "\n",
    "download_public_file('inspirit-ai-data-bucket-1','Data/AI Scholars/Sessions 1 - 5/Session 2b - Logistic Regression/cancer.csv','cancer_data.csv')\n",
    "\n",
    "data = pd.read_csv('cancer_data.csv')\n",
    "data['diagnosis'].replace({'M':1, 'B':0}, inplace = True)\n",
    "data.to_csv('cancer_data.csv')\n",
    "del data"
   ]
  },
  {
   "cell_type": "code",
   "execution_count": null,
   "metadata": {
    "id": "LmyUG5GrvdPf"
   },
   "outputs": [],
   "source": [
    "\n",
    "import os             \n",
    "import numpy as np    \n",
    "import pandas as pd   \n",
    "from sklearn.metrics import accuracy_score   \n"
   ]
  },
  {
   "cell_type": "code",
   "execution_count": null,
   "metadata": {
    "id": "5Cu2tGYpv5AZ"
   },
   "outputs": [],
   "source": [
    "data_path  = 'cancer_data.csv'\n",
    "\n",
    "dataframe = pd.read_csv(data_path)\n",
    "\n",
    "dataframe = dataframe[['diagnosis', 'perimeter_mean', 'radius_mean', 'texture_mean', 'area_mean', 'smoothness_mean', 'concavity_mean', 'symmetry_mean']]\n",
    "dataframe['diagnosis_cat'] = dataframe['diagnosis'].astype('category').map({1: '1 (malignant)', 0: '0 (benign)'})"
   ]
  },
  {
   "cell_type": "code",
   "execution_count": null,
   "metadata": {
    "id": "qKMsdWy4J023"
   },
   "outputs": [],
   "source": [
    "dataframe.head()"
   ]
  },
  {
   "cell_type": "code",
   "execution_count": null,
   "metadata": {
    "id": "0-SoD9EQw5Ie"
   },
   "outputs": [],
   "source": [
    "dataframe.info()"
   ]
  },
  {
   "cell_type": "code",
   "execution_count": null,
   "metadata": {
    "id": "3Fg1ZzH8gZyA"
   },
   "outputs": [],
   "source": [
    "import seaborn as sns\n",
    "import matplotlib.pyplot as plt "
   ]
  },
  {
   "cell_type": "code",
   "execution_count": null,
   "metadata": {
    "id": "eXefT2nZgdnE"
   },
   "outputs": [],
   "source": [
    "sns.catplot(x = 'radius_mean', y = 'diagnosis_cat', data = dataframe, order=['1 (malignant)', '0 (benign)'])\n",
    "dataframe.head()"
   ]
  },
  {
   "cell_type": "code",
   "execution_count": null,
   "metadata": {
    "cellView": "form",
    "id": "LD0WAIB4l3p8"
   },
   "outputs": [],
   "source": [
    "from sklearn import linear_model\n",
    "\n",
    "X,y = dataframe[['radius_mean']], dataframe[['diagnosis']]\n",
    "\n",
    "model = linear_model.LinearRegression()\n",
    "model.fit(X, y)\n",
    "preds = model.predict(X)\n",
    "\n",
    "sns.scatterplot(x='radius_mean', y='diagnosis', data=dataframe)\n",
    "plt.plot(X, preds, color='r')\n",
    "plt.legend(['Linear Regression Fit', 'Data'])"
   ]
  },
  {
   "cell_type": "code",
   "execution_count": null,
   "metadata": {
    "cellView": "form",
    "id": "1oYBTJsvyaC6"
   },
   "outputs": [],
   "source": [
    "target_boundary = 15 \n",
    "\n",
    "\n",
    "sns.catplot(x = 'radius_mean', y = 'diagnosis_cat', data = dataframe, order=['1 (malignant)', '0 (benign)'])\n",
    "plt.plot([target_boundary, target_boundary], [-.2, 1.2], 'g', linewidth = 2) "
   ]
  },
  {
   "cell_type": "code",
   "execution_count": null,
   "metadata": {
    "id": "-Vc2zc5QTel4"
   },
   "outputs": [],
   "source": [
    "def boundary_classifier(target_boundary, radius_mean_series):\n",
    "  predictions = []\n",
    "  for radius_mean in radius_mean_series:\n",
    "    if radius_mean > target_boundary:\n",
    "      predictions.append(1)\n",
    "    else:\n",
    "      predictions.append(0)\n",
    "  return predictions"
   ]
  },
  {
   "cell_type": "code",
   "execution_count": null,
   "metadata": {
    "cellView": "form",
    "id": "0PiRMX-xKjiA"
   },
   "outputs": [],
   "source": [
    "chosen_boundary = 11.5 \n",
    "\n",
    "y_pred = boundary_classifier(chosen_boundary, dataframe['radius_mean'])\n",
    "dataframe['predicted'] = y_pred\n",
    "\n",
    "y_true = dataframe['diagnosis']\n",
    "\n",
    "sns.catplot(x = 'radius_mean', y = 'diagnosis_cat', hue = 'predicted', data = dataframe, order=['1 (malignant)', '0 (benign)'])\n",
    "plt.plot([chosen_boundary, chosen_boundary], [-.2, 1.2], 'g', linewidth = 2)"
   ]
  },
  {
   "cell_type": "code",
   "execution_count": null,
   "metadata": {
    "id": "2ZNaOVm-9cxb"
   },
   "outputs": [],
   "source": [
    "print (list(y_true))\n",
    "print (y_pred)"
   ]
  },
  {
   "cell_type": "code",
   "execution_count": null,
   "metadata": {
    "id": "Ro6toAITfrp1"
   },
   "outputs": [],
   "source": [
    "accuracy = accuracy_score(y_true,y_pred)\n",
    "print(accuracy)"
   ]
  },
  {
   "cell_type": "code",
   "execution_count": null,
   "metadata": {
    "id": "krQ6dJo-5yek"
   },
   "outputs": [],
   "source": [
    "from sklearn.model_selection import train_test_split\n",
    "\n",
    "train_df, test_df = train_test_split(dataframe, test_size = 0.2, random_state = 1)"
   ]
  },
  {
   "cell_type": "code",
   "execution_count": null,
   "metadata": {
    "id": "wDYAAl6xgPYO"
   },
   "outputs": [],
   "source": [
    "print('Number of rows in training dataframe:', train_df.shape[0])\n",
    "train_df.head()"
   ]
  },
  {
   "cell_type": "code",
   "execution_count": null,
   "metadata": {
    "id": "EMornfXPhzli"
   },
   "outputs": [],
   "source": [
    "print('Number of rows in test dataframe:', test_df.shape[0])\n",
    "test_df.head()"
   ]
  },
  {
   "cell_type": "code",
   "execution_count": null,
   "metadata": {
    "id": "chesGAaKNVON"
   },
   "outputs": [],
   "source": [
    "X = ['radius_mean']\n",
    "y = 'diagnosis'\n",
    "\n",
    "X_train = train_df[X]\n",
    "print('X_train, our input variables:')\n",
    "print(X_train.head())\n",
    "print()\n",
    "\n",
    "y_train = train_df[y]\n",
    "print('y_train, our output variable:')\n",
    "print(y_train.head())"
   ]
  },
  {
   "cell_type": "code",
   "execution_count": null,
   "metadata": {
    "id": "kj1LIpVT6SwY"
   },
   "outputs": [],
   "source": [
    "logreg_model = linear_model.LogisticRegression()"
   ]
  },
  {
   "cell_type": "code",
   "execution_count": null,
   "metadata": {
    "id": "fffn16PcNR6E"
   },
   "outputs": [],
   "source": [
    "logreg_model = linear_model.LogisticRegression()\n",
    "logreg_model.fit(X_train, y_train)"
   ]
  },
  {
   "cell_type": "code",
   "execution_count": null,
   "metadata": {
    "id": "WaBE6yg6kF2N"
   },
   "outputs": [],
   "source": [
    "X_test = test_df[X]\n",
    "y_test = test_df[y]"
   ]
  },
  {
   "cell_type": "code",
   "execution_count": null,
   "metadata": {
    "id": "nvAuNDRXNOzT"
   },
   "outputs": [],
   "source": [
    "y_pred = logreg_model.predict(X_test)"
   ]
  },
  {
   "cell_type": "code",
   "execution_count": null,
   "metadata": {
    "id": "GUSOLlz8lJu-"
   },
   "outputs": [],
   "source": [
    "test_df['predicted'] = y_pred.squeeze()\n",
    "sns.catplot(x = X[0], y = 'diagnosis_cat', hue = 'predicted', data=test_df, order=['1 (malignant)', '0 (benign)'])"
   ]
  },
  {
   "cell_type": "code",
   "execution_count": null,
   "metadata": {
    "id": "BKz5TfiOTHDl"
   },
   "outputs": [],
   "source": [
    "accuracy = accuracy_score(y_test, y_pred)\n",
    "print(accuracy)"
   ]
  },
  {
   "cell_type": "code",
   "execution_count": null,
   "metadata": {
    "id": "V0tu5u7Y7CVL"
   },
   "outputs": [],
   "source": [
    "y_prob = logreg_model.predict_proba(X_test)\n",
    "X_test_view = X_test[X].values.squeeze()\n",
    "plt.xlabel('radius_mean')\n",
    "plt.ylabel('Predicted Probability')\n",
    "sns.scatterplot(x = X_test_view, y = y_prob[:,1], hue = y_test, palette=['purple','green'])"
   ]
  },
  {
   "cell_type": "code",
   "execution_count": null,
   "metadata": {
    "id": "SB0iDuJ79_JE"
   },
   "outputs": [],
   "source": [
    "dataframe.head(1)"
   ]
  },
  {
   "cell_type": "code",
   "execution_count": null,
   "metadata": {
    "id": "fEMOF4Ys9U3_"
   },
   "outputs": [],
   "source": [
    "X = ['radius_mean']\n",
    "y = 'diagnosis'\n",
    "\n",
    "X_train, X_test = train_df[X], test_df[X]\n",
    "y_train, y_test = train_df[y], test_df[y]\n",
    "\n",
    "model = linear_model.LogisticRegression()\n",
    "model.fit(X_train, y_train)\n",
    "preds = model.predict(X_test)\n",
    "\n",
    "accuracy = accuracy_score(y_test, preds)\n",
    "print(X[0], accuracy)"
   ]
  },
  {
   "cell_type": "code",
   "execution_count": null,
   "metadata": {
    "id": "PbPQuFWE_btz"
   },
   "outputs": [],
   "source": [
    "dataframe.head(1)"
   ]
  },
  {
   "cell_type": "code",
   "execution_count": null,
   "metadata": {
    "id": "KnXhkAAs-X8s"
   },
   "outputs": [],
   "source": [
    "train_df, test_df = train_test_split(dataframe, test_size = 0.2, random_state = 1)\n",
    "X = ['perimeter_mean', 'radius_mean', 'texture_mean','area_mean']\n",
    "y = 'diagnosis'\n",
    "\n",
    "X_train, X_test = train_df[X], test_df[X]\n",
    "y_train, y_test = train_df[y], test_df[y]\n",
    "\n",
    "model = linear_model.LogisticRegression()\n",
    "model.fit(X_train, y_train)\n",
    "preds = model.predict(X_test)\n",
    "\n",
    "accuracy = accuracy_score(y_test, preds)\n",
    "print(X)\n",
    "print (accuracy)"
   ]
  },
  {
   "cell_type": "code",
   "execution_count": null,
   "metadata": {
    "id": "EcfsPpup9ljK"
   },
   "outputs": [],
   "source": [
    "from sklearn import metrics\n",
    "\n",
    "cnf_matrix = metrics.confusion_matrix(y_test, y_pred)\n",
    "\n",
    "class_names = [0,1] \n",
    "\n",
    "fig, ax = plt.subplots()\n",
    "tick_marks = np.arange(len(class_names)) \n",
    "plt.xticks(tick_marks, class_names)\n",
    "plt.yticks(tick_marks, class_names)\n",
    "sns.heatmap(pd.DataFrame(cnf_matrix), annot=True, cmap=\"YlGnBu\" ,fmt='g') # Creating heatmap\n",
    "ax.xaxis.set_label_position(\"top\")\n",
    "plt.tight_layout()\n",
    "plt.title('Confusion matrix', y = 1.1)\n",
    "plt.ylabel('Actual diagnosis')\n",
    "plt.xlabel('Predicted diagnosis')"
   ]
  },
  {
   "cell_type": "code",
   "execution_count": null,
   "metadata": {
    "id": "vVejXKvcfitm"
   },
   "outputs": [],
   "source": [
    "print(cnf_matrix)\n",
    "(tn, fp), (fn, tp) = cnf_matrix\n",
    "print (\"TN, FP, FN, TP:\", tn, fp, fn, tp)"
   ]
  },
  {
   "cell_type": "code",
   "execution_count": null,
   "metadata": {
    "cellView": "form",
    "id": "W_Y2gGHcxhlG"
   },
   "outputs": [],
   "source": [
    "accuracy = (tp + tn)/(tn + fp + fn + tp)\n",
    "precision = (tp)/(tp + fp)\n",
    "recall = tp/(tp + fn)\n",
    "\n",
    "print (\"accuracy, precision, recall\", accuracy, precision, recall)"
   ]
  },
  {
   "cell_type": "code",
   "execution_count": null,
   "metadata": {
    "id": "VbpWRKvyTedY"
   },
   "outputs": [],
   "source": [
    "from sklearn import tree\n",
    "\n",
    "class_dt = tree.DecisionTreeClassifier(max_depth=3)\n",
    "\n",
    "class_dt.fit(X_train, y_train)"
   ]
  },
  {
   "cell_type": "code",
   "execution_count": null,
   "metadata": {
    "id": "2PpoiLD77HkK"
   },
   "outputs": [],
   "source": [
    "plt.figure(figsize=(13,8))\n",
    "tree.plot_tree(class_dt, fontsize=10)"
   ]
  },
  {
   "cell_type": "code",
   "execution_count": null,
   "metadata": {
    "id": "IKUiw9KdUQBs"
   },
   "outputs": [],
   "source": [
    "y_pred = class_dt.predict(X_test)"
   ]
  },
  {
   "cell_type": "code",
   "execution_count": null,
   "metadata": {
    "id": "FcJmeOmFUaHP"
   },
   "outputs": [],
   "source": [
    "print(\"Accuracy: \", metrics.accuracy_score(y_test, y_pred))\n",
    "print(\"Precision: \", metrics.precision_score(y_test, y_pred))\n",
    "print(\"Recall: \", metrics.recall_score(y_test, y_pred))"
   ]
  }
 ],
 "metadata": {
  "colab": {
   "collapsed_sections": [
    "HP9U_AO8stAq",
    "CwIq3r8RENiw"
   ],
   "name": "Copy of Beginner_LogisticRegression.ipynb",
   "provenance": []
  },
  "kernelspec": {
   "display_name": "Python 3 (ipykernel)",
   "language": "python",
   "name": "python3"
  },
  "language_info": {
   "codemirror_mode": {
    "name": "ipython",
    "version": 3
   },
   "file_extension": ".py",
   "mimetype": "text/x-python",
   "name": "python",
   "nbconvert_exporter": "python",
   "pygments_lexer": "ipython3",
   "version": "3.9.10"
  }
 },
 "nbformat": 4,
 "nbformat_minor": 1
}
